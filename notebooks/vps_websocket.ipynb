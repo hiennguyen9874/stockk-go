{
 "cells": [
  {
   "cell_type": "code",
   "execution_count": 3,
   "metadata": {},
   "outputs": [
    {
     "data": {
      "text/plain": [
       "'96:0{\"sid\":\"tET3alaq8r04Ml4HDstS\",\"upgrades\":[\"websocket\"],\"pingInterval\":25000,\"pingTimeout\":5000}2:40'"
      ]
     },
     "execution_count": 3,
     "metadata": {},
     "output_type": "execute_result"
    }
   ],
   "source": [
    "import requests\n",
    "\n",
    "headers = {\n",
    "    \"Accept\": \"*/*\",\n",
    "    \"Accept-Language\": \"vi,en;q=0.9\",\n",
    "    \"Connection\": \"keep-alive\",\n",
    "    \"Origin\": \"https://chart.vps.com.vn\",\n",
    "    \"Referer\": \"https://chart.vps.com.vn/\",\n",
    "    \"Sec-Fetch-Dest\": \"empty\",\n",
    "    \"Sec-Fetch-Mode\": \"cors\",\n",
    "    \"Sec-Fetch-Site\": \"same-site\",\n",
    "    \"User-Agent\": \"Mozilla/5.0 (X11; Linux x86_64) AppleWebKit/537.36 (KHTML, like Gecko) Chrome/109.0.0.0 Safari/537.36\",\n",
    "    \"sec-ch-ua\": '\"Not_A Brand\";v=\"99\", \"Google Chrome\";v=\"109\", \"Chromium\";v=\"109\"',\n",
    "    \"sec-ch-ua-mobile\": \"?0\",\n",
    "    \"sec-ch-ua-platform\": '\"Linux\"',\n",
    "}\n",
    "\n",
    "params = {\n",
    "    \"EIO\": \"3\",\n",
    "    \"transport\": \"polling\",\n",
    "    \"t\": \"OMfSt24\",\n",
    "}\n",
    "\n",
    "response = requests.get(\n",
    "    \"https://tradingviewrealtime.vps.com.vn/socket.io/\", params=params, headers=headers\n",
    ")\n",
    "response.text"
   ]
  },
  {
   "cell_type": "code",
   "execution_count": null,
   "metadata": {},
   "outputs": [],
   "source": []
  }
 ],
 "metadata": {
  "kernelspec": {
   "display_name": "base",
   "language": "python",
   "name": "python3"
  },
  "language_info": {
   "codemirror_mode": {
    "name": "ipython",
    "version": 3
   },
   "file_extension": ".py",
   "mimetype": "text/x-python",
   "name": "python",
   "nbconvert_exporter": "python",
   "pygments_lexer": "ipython3",
   "version": "3.9.12"
  },
  "orig_nbformat": 4,
  "vscode": {
   "interpreter": {
    "hash": "2a7145f593d101c30a2c479ee680412f7217baad164519b80bf39000052a94bf"
   }
  }
 },
 "nbformat": 4,
 "nbformat_minor": 2
}
